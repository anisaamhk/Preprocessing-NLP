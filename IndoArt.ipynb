{
 "cells": [
  {
   "cell_type": "code",
   "execution_count": 2,
   "metadata": {},
   "outputs": [],
   "source": [
    "import nltk #import library nltk\n",
    "from nltk.tokenize import word_tokenize #import word_tokenize for tokenizing text into words \n",
    "from nltk.tokenize import sent_tokenize #import sent_tokenize for tokenizing paragraph into sentences\n",
    "from nltk.stem.porter import PorterStemmer #import Porter Stemmer Algorithm \n",
    "from nltk.stem import WordNetLemmatizer #import WordNet lemmatizer \n",
    "from nltk.corpus import stopwords #import stopwords\n",
    "from nltk.tokenize import word_tokenize \n",
    "from nltk.tokenize import RegexpTokenizer\n",
    "from Sastrawi.Stemmer.StemmerFactory import StemmerFactory #import Indonesian Stemmer\n",
    "import re #import regular expression\n",
    "from Sastrawi.StopWordRemover.StopWordRemoverFactory import StopWordRemoverFactory"
   ]
  },
  {
   "cell_type": "code",
   "execution_count": 8,
   "metadata": {},
   "outputs": [],
   "source": [
    "def sentence_tokenization(s): \n",
    "    sentences_list = sent_tokenize(s)\n",
    "    return sentences_list\n",
    "\n",
    "#casefolding\n",
    "def casefolding(s):\n",
    "    new_str = s.lower()\n",
    "    \n",
    "    return new_str\n",
    "\n",
    "#remove punctuation and digit from string\n",
    "def removeDigit(str):\n",
    "    new_string =  re.sub(r\"[\\W,0-9]\", \" \", str)\n",
    "    return new_string\n",
    "\n",
    "#Stemming Indonesian\n",
    "def stemmingIndo(str):\n",
    "    factory = StemmerFactory()\n",
    "    stemmer = factory.create_stemmer()\n",
    "    return stemmer.stem(str)\n",
    "\n",
    "#Stopwords\n",
    "stop_words = set(stopwords.words('indonesian')) \n",
    "\n",
    "def stpword(str):\n",
    "    word_tokens = word_tokenize(str) \n",
    "    filtered_sentence = [w for w in word_tokens if not w in stop_words]  \n",
    "    filtered_sentence = [] \n",
    "    \n",
    "    for w in word_tokens: \n",
    "        if w not in stop_words: \n",
    "            filtered_sentence.append(w)\n",
    "    return filtered_sentence\n",
    "\n",
    "#pos tagging\n",
    "def postag(str):\n",
    "    tok_sentence = nltk.word_tokenize(str)\n",
    "    tagged_sentence = nltk.pos_tag(tok_sentence)\n",
    "    return tagged_sentence"
   ]
  },
  {
   "cell_type": "code",
   "execution_count": 9,
   "metadata": {},
   "outputs": [
    {
     "name": "stdout",
     "output_type": "stream",
     "text": [
      "[('mahal', 'NN'), ('temu', 'NN'), ('atur', 'NN'), ('terbang', 'NN'), ('rekrut', 'NN'), ('klub', 'NN'), ('kuota', 'NN'), ('juventus', 'NN'), ('dunia', 'NN'), ('eropa', 'NN'), ('kesah', 'NN'), ('harga', 'JJ'), ('city', 'NN'), ('hak', 'NN'), ('rabu', 'NN'), ('tarik', 'NN'), ('strategi', 'NN'), ('perata', 'NN'), ('urut', 'JJ'), ('federasi', 'NN'), ('hindar', 'NN'), ('fifpro', 'JJ'), ('sepak', 'NN'), ('enam', 'NN'), ('izin', 'NN'), ('tuju', 'VBP'), ('jual', 'JJ'), ('gusar', 'NN'), ('jam', 'NN'), ('matang', 'NN'), ('mapan', 'NN'), ('chelsea', 'NN'), ('batas', 'NNS'), ('laku', 'VBP'), ('sesuai', 'JJ'), ('anggota', 'NN'), ('kecuali', 'NN'), ('garap', 'NN'), ('rapat', 'NN'), ('maksimal', 'JJ'), ('reformasi', 'NN'), ('pinjam', 'NN'), ('raksasa', 'NN'), ('monopoli', 'NN'), ('muda', 'NN'), ('tebus', 'NN'), ('fifa', 'NN'), ('main', 'JJ'), ('infantino', 'NN'), ('potensial', 'JJ'), ('berangkat', 'NN'), ('forum', 'NN'), ('liga', 'NN'), ('bola', 'NN'), ('bijak', 'NN'), ('presiden', 'NN'), ('protes', 'VBZ'), ('football', 'NN'), ('kutip', 'NN'), ('sanksi', 'NN'), ('milik', 'NN'), ('habis', 'NN'), ('udinese', 'JJ'), ('asosiasi', 'NN'), ('gianni', 'NN'), ('lihat', 'WP'), ('italia', 'VBZ'), ('veto', 'NN'), ('manchester', 'NN'), ('rencana', 'VBD'), ('bina', 'NNS'), ('wakil', 'NN')]\n"
     ]
    }
   ],
   "source": [
    "def main():\n",
    "    file = open('Indonesia.txt', 'r')\n",
    "    text_data = file.read()\n",
    "    cs = casefolding(text_data)\n",
    "    rm = removeDigit(cs)\n",
    "    st = stemmingIndo(rm)\n",
    "    stop = stpword(st)\n",
    "    list1 = list(set(stop))\n",
    "    str1 = ' '.join(list1)\n",
    "    post = postag(str1)\n",
    "    print(post)\n",
    "    \n",
    "if __name__== \"__main__\":\n",
    "    main()"
   ]
  },
  {
   "cell_type": "code",
   "execution_count": null,
   "metadata": {},
   "outputs": [],
   "source": []
  }
 ],
 "metadata": {
  "kernelspec": {
   "display_name": "Python 3",
   "language": "python",
   "name": "python3"
  },
  "language_info": {
   "codemirror_mode": {
    "name": "ipython",
    "version": 3
   },
   "file_extension": ".py",
   "mimetype": "text/x-python",
   "name": "python",
   "nbconvert_exporter": "python",
   "pygments_lexer": "ipython3",
   "version": "3.6.5"
  }
 },
 "nbformat": 4,
 "nbformat_minor": 2
}
