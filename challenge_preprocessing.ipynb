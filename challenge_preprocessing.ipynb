{
 "cells": [
  {
   "cell_type": "code",
   "execution_count": 36,
   "metadata": {},
   "outputs": [],
   "source": [
    "import nltk #import library nltk\n",
    "from nltk.tokenize import word_tokenize #import word_tokenize for tokenizing text into words \n",
    "from nltk.tokenize import sent_tokenize #import sent_tokenize for tokenizing paragraph into sentences\n",
    "from nltk.stem.porter import PorterStemmer #import Porter Stemmer Algorithm \n",
    "from nltk.stem import WordNetLemmatizer #import WordNet lemmatizer \n",
    "from nltk.corpus import stopwords #import stopwords\n",
    "from nltk.tokenize import word_tokenize \n",
    "from nltk.tokenize import RegexpTokenizer\n",
    "from Sastrawi.Stemmer.StemmerFactory import StemmerFactory #import Indonesian Stemmer\n",
    "import re #import regular expression\n",
    "from Sastrawi.StopWordRemover.StopWordRemoverFactory import StopWordRemoverFactory"
   ]
  },
  {
   "cell_type": "code",
   "execution_count": 38,
   "metadata": {},
   "outputs": [],
   "source": [
    "#tokenization\n",
    "def tokenization(s): \n",
    "    sentences_list = sent_tokenize(s)\n",
    "    return sentences_list\n",
    "\n",
    "#casefolding\n",
    "def casefolding(s):\n",
    "    new_str = s.lower()   \n",
    "    return new_str\n",
    "\n",
    "#remove punctuation and digit from string\n",
    "def removePunc(str):\n",
    "    new_string =  re.sub(r\"[\\W,0-9,(_),(â)]\", \" \", str)\n",
    "    return new_string\n",
    "\n",
    "#remove link\n",
    "def removeLink(str):\n",
    "    rm_link = re.sub(r\"http\\S+\", \"\", str) \n",
    "    return rm_link\n",
    "\n",
    "#remove multiple space\n",
    "def removeSpace(str):\n",
    "    rm_space = re.sub(' +',' ',str)\n",
    "    return rm_space\n",
    "    \n",
    "def removeOne(str):\n",
    "    stop = re.compile(r'\\W*\\b\\w{1}\\b')\n",
    "    stop = stop.sub('',str)\n",
    "    return stop\n",
    "\n",
    "#Stopwords\n",
    "def stpword(str):  \n",
    "    stop_words = set(stopwords.words('indonesian')) \n",
    "    stop_words1 = set(stopwords.words('english'))\n",
    "    \n",
    "    word_tokens = word_tokenize(str) \n",
    "    \n",
    "    filtered_sentence = [w for w in word_tokens if not w in stop_words]\n",
    "    filtered_sentence = [w for w in word_tokens if not w in stop_words1]\n",
    "    filtered_sentence = [] \n",
    "\n",
    "    for w in word_tokens: \n",
    "        if w not in stop_words: \n",
    "            if w not in stop_words1:\n",
    "                filtered_sentence.append(w)\n",
    "    return filtered_sentence"
   ]
  },
  {
   "cell_type": "code",
   "execution_count": 41,
   "metadata": {},
   "outputs": [
    {
     "name": "stdout",
     "output_type": "stream",
     "text": [
      "siang langsung kebidanan fk ub terima kasih jadwal kegiatan dies natalis ub catat tanggalnya semarakkan acaranya coming soon rangkaian acara dies natalis universitas brawijaya rt ub io beasiswa aminef pengajar bahasa inggris ub deadline aplikasi tanggal april ub official rt ub io beasiswa training studi belgia ub official ubtv brawijaya rt ub periksa cek klik nomornya tombol selesai klik amp nilai rt ub tes kompetensi ti menit excel point word orang berbeda krn bank rt unileveridn prosesi penutupan kesehatan gigi nasional fkg univ brawijaya bkgn pepsodent ub official tanyapepsodent selamat siang jadwal penerimaan mahasiswa rt kempanrb korpri meneguhkan netralitas meningkatkan profesionalisme aparatur sipil negara selamat hut korpri rt ub io sosialisasi studi beasiswa swedia lt rektorat ub free entry kuota terbatas kursi rt ub io kesempatan terbaru studi negeri beasiswa informasi lengkap ub rt ub io forget british winter education fair today gedung kebudayaan mahasiswa ub ub official rt ub io program pertukaran pelajar aminef ub official rt ub io fullbright scholarship dibuka silahkan mengunjungi ub official rt ub io british winter education fair miss scholarships info many ub official ubtv brawijaya rt ub io international student summit agenda tahunan dikti kompetisi mahasiswa asing lokal indonesia ub official rt ub io sosialisasi international student summit competition unair kamis lt rektorat free rt ub pengumuman jadwal test sertifikasi kompetensi ti gelombang rt ub io nuffic neso daad menawarkan beasiswa pendidikan summer course pelatihan ub rt ub io salah partner ub ritsumeikan university membuka short term exchange program ub official rektor selamat berbahagialah mahasiswa ub selamat belajar rajabrawijaya pusaka pelepasan balon rektor dirjen kemenristekdikti dibunyikannya gong resmi pelaksanaan pkk maba rajabrawijaya pusaka rektor universitas brawijaya beserta jajaran undangan memasuki lapangan upacara rajabrawijaya pusaka ayo dukung info pintu gerbang dibuka selasa agustus wib wib wib selesai rajabrawijaya info pintu gerbang dibuka pintu gerbang pos veteran pintu gerbang pos bni rajabrawijaya info penutupan dilaksanakan selasa agustus wib wib rajabrawijaya info penutupan jalan masuk pintu gerbang pos veteran pos bni pos jl haryono makam pos kpri rajabrawijaya info sehubungan diselenggarakannya pkk maba rajabrawijaya diberitahukan\n"
     ]
    }
   ],
   "source": [
    "def main():\n",
    "    file = open('tweet-data.txt', 'r')\n",
    "    text_data = file.read()\n",
    "    tk = tokenization(text_data)\n",
    "    link = removeLink(text_data)\n",
    "    rm = removePunc(link)\n",
    "    space = removeSpace(rm)\n",
    "    rm1 = removeOne(space) \n",
    "    case = casefolding(rm1)\n",
    "    stp = stpword(case)\n",
    "    str1 = ' '.join(stp)\n",
    "    print(str1)\n",
    "    \n",
    "if __name__== \"__main__\":\n",
    "    main()"
   ]
  }
 ],
 "metadata": {
  "kernelspec": {
   "display_name": "Python 3",
   "language": "python",
   "name": "python3"
  },
  "language_info": {
   "codemirror_mode": {
    "name": "ipython",
    "version": 3
   },
   "file_extension": ".py",
   "mimetype": "text/x-python",
   "name": "python",
   "nbconvert_exporter": "python",
   "pygments_lexer": "ipython3",
   "version": "3.6.5"
  }
 },
 "nbformat": 4,
 "nbformat_minor": 2
}
