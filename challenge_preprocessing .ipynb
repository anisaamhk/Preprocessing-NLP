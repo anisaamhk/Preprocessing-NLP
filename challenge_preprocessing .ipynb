{
 "cells": [
  {
   "cell_type": "code",
   "execution_count": 2,
   "metadata": {},
   "outputs": [],
   "source": [
    "import nltk #import library nltk\n",
    "from nltk.tokenize import word_tokenize #import word_tokenize for tokenizing text into words \n",
    "from nltk.tokenize import sent_tokenize #import sent_tokenize for tokenizing paragraph into sentences\n",
    "from nltk.stem.porter import PorterStemmer #import Porter Stemmer Algorithm \n",
    "from nltk.stem import WordNetLemmatizer #import WordNet lemmatizer \n",
    "from nltk.corpus import stopwords #import stopwords\n",
    "from nltk.tokenize import word_tokenize \n",
    "from nltk.tokenize import RegexpTokenizer\n",
    "from Sastrawi.Stemmer.StemmerFactory import StemmerFactory #import Indonesian Stemmer\n",
    "import re #import regular expression\n",
    "from Sastrawi.StopWordRemover.StopWordRemoverFactory import StopWordRemoverFactory"
   ]
  },
  {
   "cell_type": "code",
   "execution_count": 3,
   "metadata": {},
   "outputs": [
    {
     "data": {
      "text/plain": [
       "['Siang, bisa langsung ditanyakan ke Kebidanan FK UB.',\n",
       " 'Terima kasih.',\n",
       " 'https://t.co/5P0KDHlK9r\\nJadwal Kegiatan Dies Natalis ke-54 UB.',\n",
       " 'Catat tanggalnya dan semarakkan acaranya.',\n",
       " 'https://t.co/YZpBV1YFJK\\nComing soon : Rangkaian Acara Dies Natalis ke-54 Universitas Brawijaya https://t.co/5xgu0Gj828\\nRT @UB_IO: Beasiswa AMINEF Untuk Pengajar Bahasa Inggris di UB.',\n",
       " 'Deadline aplikasi tanggal 15 April 2017 https://t.co/Kg5Ked96bf @UB_Official\\nRT @UB_IO: Beasiswa untuk Training dan Studi Lanjut ke Belgia.',\n",
       " '@UB_Official @UBTV_Brawijaya https://t.co/eEHYiNzbrf\\nRT @UB_IT: Periksa Soal: cek jawaban kamu.Untuk kembali ke soal,klik nomornya.Tombol SELESAI di klik jika semua soal sudah dijawab &amp; nilaiâ€¦\\nRT @UB_IT: Tes kompetensi TI selama 90 menit/90 soal (30 Excel,30 P.Point,30 Word).',\n",
       " 'Soal tiap orang berbeda krn bank soal lebih dari 3000.â€¦\\nRT @UnileverIDN: Prosesi penutupan Bulan Kesehatan Gigi Nasional 2016 di FKG Univ Brawijaya #BKGN #Pepsodent @UB_Official @TanyaPepsodent @â€¦\\nSelamat siang.',\n",
       " 'Untuk jadwal penerimaan mahasiswa S2 bisa dilihat di https://t.co/1Uuv3lGe1O atau diâ€¦ https://t.co/CYvxFREg3M\\nRT @kempanrb: bersama Korpri meneguhkan netralitas dan meningkatkan profesionalisme Aparatur Sipil Negara.',\n",
       " 'Selamat HUT KORPRI ke 45!!',\n",
       " 'httpsâ€¦\\nRT @UB_IO: Sosialisasi Studi S2 dan Beasiswa dari Swedia.',\n",
       " 'hari ini, 16.00-17.00 di Lt.8 Rektorat UB, Free entry, kuota terbatas 150 kursi.â€¦\\nRT @UB_IO: Kesempatan terbaru untuk studi S2 dan S3 di luar negeri dengan beasiswa.',\n",
       " \"Informasi lebih lengkap https://t.co/u0RkZJTtsV @UB_Offâ€¦\\nRT @UB_IO: Don't forget, British Winter Education Fair, Today 13.00 at Gedung Kebudayaan Mahasiswa UB https://t.co/dsel5k3Ii9 @UB_Official\\nRT @UB_IO: Program Pertukaran Pelajar dari AMINEF untuk D1, D3 dan S1 https://t.co/rwV7N7sAX6 @UB_Official\\nRT @UB_IO: Fullbright Scholarship untuk S2 dan S3 telah dibuka, silahkan mengunjungi https://t.co/FbNchPlT9W @UB_Official\\nRT @UB_IO: British Winter Education Fair.\",\n",
       " \"Don't miss it.\",\n",
       " 'Scholarships info and many more @UB_Official @UBTV_Brawijaya https://t.co/iA0e6uHBâ€¦\\nRT @UB_IO: International Student Summit adalah agenda tahunan DIKTI untuk kompetisi mahasiswa asing dan lokal se-Indonesia @UB_Official\\nRT @UB_IO: Sosialisasi International Student Summit and Competition by UNAIR.',\n",
       " 'Hari ini Kamis 13/10/16 pukul 12.00, di Lt8 Rektorat.',\n",
       " 'Free.',\n",
       " '@â€¦\\nRT @UB_IT: Pengumuman Jadwal Test Sertifikasi Kompetensi TI Gelombang 54\\nhttps://t.co/vhHiWN0ENq\\nRT @UB_IO: Nuffic Neso dan DAAD menawarkan beasiswa pendidikan untuk S1 hingga S3, summer course, dan pelatihan https://t.co/u0RkZJTtsV @UBâ€¦\\nRT @UB_IO: Salah satu partner UB, Ritsumeikan University membuka Short-term Exchange Program https://t.co/fc4FcPASoN @UB_Official\\nRektor : selamat dan berbahagialah menjadi bagian dari 12.000 mahasiswa baru UB.',\n",
       " 'Selamat belajar.',\n",
       " '#RajaBrawijaya2016 #Pusaka54\\nPelepasan balon oleh Rektor dan Dirjen dari Kemenristekdikti https://t.co/kBReodtkIk\\nDengan dibunyikannya gong, secara resmi telah dimulainya pelaksanaan PKK-Maba 2016 #RajaBrawijaya2016 #Pusaka54 https://t.co/Xe7Hfj3TqO\\nRektor Universitas Brawijaya beserta jajaran dan undangan memasuki lapangan upacara #RajaBrawijaya2016 #Pusaka54\\nAyo Dukung!',\n",
       " 'https://t.co/ZuCSWMojex\\n#INFO 4.',\n",
       " 'Pintu gerbang dibuka pada Selasa, 30 Agustus 2016, pukul 09.00 WIB-15.30 WIB dan 17.00 WIB-selesai #RajaBrawijaya2016\\n#INFO 3.',\n",
       " \"Pintu Gerbang keluar yang dibuka : Pintu Gerbang Pos Veteran dan Pintu Gerbang Pos BNI'46 #RajaBrawijaya2016\\n#INFO 2.\",\n",
       " 'Penutupan dilaksanakan pada hari : Selasa, 30 Agustus 2016, pukul 06.30-09.00 WIB dan 15.30-17.00 WIB #RajaBrawijaya2016\\n#INFO 1.',\n",
       " \"Penutupan jalan masuk pada : Pintu Gerbang Pos Veteran, Pos BNI'46, Pos Jl, M. Haryono (Makam) dan Pos KPRI #RajaBrawijaya2016\\n#INFO Sehubungan dengan akan diselenggarakannya PKK-Maba #RajaBrawijaya2016 dengan ini diberitahukan bahwa :\"]"
      ]
     },
     "execution_count": 3,
     "metadata": {},
     "output_type": "execute_result"
    }
   ],
   "source": [
    "file = open ('tweet-data.txt','r')\n",
    "f = file.read()\n",
    "\n",
    "def sentence_tokenization(s): \n",
    "    sentences_list = sent_tokenize(s)\n",
    "    return sentences_list \n",
    "\n",
    "text_data = f\n",
    "sentence_tokenization(text_data)"
   ]
  },
  {
   "cell_type": "code",
   "execution_count": 4,
   "metadata": {},
   "outputs": [
    {
     "name": "stdout",
     "output_type": "stream",
     "text": [
      "Siang, bisa langsung ditanyakan ke Kebidanan FK UB. Terima kasih. \n",
      "Jadwal Kegiatan Dies Natalis ke-54 UB. Catat tanggalnya dan semarakkan acaranya. \n",
      "Coming soon : Rangkaian Acara Dies Natalis ke-54 Universitas Brawijaya \n",
      "RT @UB_IO: Beasiswa AMINEF Untuk Pengajar Bahasa Inggris di UB. Deadline aplikasi tanggal 15 April 2017  @UB_Official\n",
      "RT @UB_IO: Beasiswa untuk Training dan Studi Lanjut ke Belgia. @UB_Official @UBTV_Brawijaya \n",
      "RT @UB_IT: Periksa Soal: cek jawaban kamu.Untuk kembali ke soal,klik nomornya.Tombol SELESAI di klik jika semua soal sudah dijawab &amp; nilaiâ€¦\n",
      "RT @UB_IT: Tes kompetensi TI selama 90 menit/90 soal (30 Excel,30 P.Point,30 Word). Soal tiap orang berbeda krn bank soal lebih dari 3000.â€¦\n",
      "RT @UnileverIDN: Prosesi penutupan Bulan Kesehatan Gigi Nasional 2016 di FKG Univ Brawijaya #BKGN #Pepsodent @UB_Official @TanyaPepsodent @â€¦\n",
      "Selamat siang. Untuk jadwal penerimaan mahasiswa S2 bisa dilihat di  atau diâ€¦ \n",
      "RT @kempanrb: bersama Korpri meneguhkan netralitas dan meningkatkan profesionalisme Aparatur Sipil Negara. Selamat HUT KORPRI ke 45!! \n",
      "RT @UB_IO: Sosialisasi Studi S2 dan Beasiswa dari Swedia. hari ini, 16.00-17.00 di Lt.8 Rektorat UB, Free entry, kuota terbatas 150 kursi.â€¦\n",
      "RT @UB_IO: Kesempatan terbaru untuk studi S2 dan S3 di luar negeri dengan beasiswa. Informasi lebih lengkap  @UB_Offâ€¦\n",
      "RT @UB_IO: Don't forget, British Winter Education Fair, Today 13.00 at Gedung Kebudayaan Mahasiswa UB  @UB_Official\n",
      "RT @UB_IO: Program Pertukaran Pelajar dari AMINEF untuk D1, D3 dan S1  @UB_Official\n",
      "RT @UB_IO: Fullbright Scholarship untuk S2 dan S3 telah dibuka, silahkan mengunjungi  @UB_Official\n",
      "RT @UB_IO: British Winter Education Fair. Don't miss it. Scholarships info and many more @UB_Official @UBTV_Brawijaya \n",
      "RT @UB_IO: International Student Summit adalah agenda tahunan DIKTI untuk kompetisi mahasiswa asing dan lokal se-Indonesia @UB_Official\n",
      "RT @UB_IO: Sosialisasi International Student Summit and Competition by UNAIR. Hari ini Kamis 13/10/16 pukul 12.00, di Lt8 Rektorat. Free. @â€¦\n",
      "RT @UB_IT: Pengumuman Jadwal Test Sertifikasi Kompetensi TI Gelombang 54\n",
      "\n",
      "RT @UB_IO: Nuffic Neso dan DAAD menawarkan beasiswa pendidikan untuk S1 hingga S3, summer course, dan pelatihan  @UBâ€¦\n",
      "RT @UB_IO: Salah satu partner UB, Ritsumeikan University membuka Short-term Exchange Program  @UB_Official\n",
      "Rektor : selamat dan berbahagialah menjadi bagian dari 12.000 mahasiswa baru UB. Selamat belajar. #RajaBrawijaya2016 #Pusaka54\n",
      "Pelepasan balon oleh Rektor dan Dirjen dari Kemenristekdikti \n",
      "Dengan dibunyikannya gong, secara resmi telah dimulainya pelaksanaan PKK-Maba 2016 #RajaBrawijaya2016 #Pusaka54 \n",
      "Rektor Universitas Brawijaya beserta jajaran dan undangan memasuki lapangan upacara #RajaBrawijaya2016 #Pusaka54\n",
      "Ayo Dukung! \n",
      "#INFO 4. Pintu gerbang dibuka pada Selasa, 30 Agustus 2016, pukul 09.00 WIB-15.30 WIB dan 17.00 WIB-selesai #RajaBrawijaya2016\n",
      "#INFO 3. Pintu Gerbang keluar yang dibuka : Pintu Gerbang Pos Veteran dan Pintu Gerbang Pos BNI'46 #RajaBrawijaya2016\n",
      "#INFO 2. Penutupan dilaksanakan pada hari : Selasa, 30 Agustus 2016, pukul 06.30-09.00 WIB dan 15.30-17.00 WIB #RajaBrawijaya2016\n",
      "#INFO 1. Penutupan jalan masuk pada : Pintu Gerbang Pos Veteran, Pos BNI'46, Pos Jl, M. Haryono (Makam) dan Pos KPRI #RajaBrawijaya2016\n",
      "#INFO Sehubungan dengan akan diselenggarakannya PKK-Maba #RajaBrawijaya2016 dengan ini diberitahukan bahwa :\n",
      "\n"
     ]
    }
   ],
   "source": [
    "#remove link\n",
    "import re\n",
    "text = result = re.sub(r\"http\\S+\", \"\", text_data)\n",
    "print(text)"
   ]
  },
  {
   "cell_type": "code",
   "execution_count": 6,
   "metadata": {},
   "outputs": [
    {
     "name": "stdout",
     "output_type": "stream",
     "text": [
      "Siang  bisa langsung ditanyakan ke Kebidanan FK UB  Terima kasih   Jadwal Kegiatan Dies Natalis ke    UB  Catat tanggalnya dan semarakkan acaranya   Coming soon   Rangkaian Acara Dies Natalis ke    Universitas Brawijaya  RT  UB IO  Beasiswa AMINEF Untuk Pengajar Bahasa Inggris di UB  Deadline aplikasi tanggal    April        UB Official RT  UB IO  Beasiswa untuk Training dan Studi Lanjut ke Belgia   UB Official  UBTV Brawijaya  RT  UB IT  Periksa Soal  cek jawaban kamu Untuk kembali ke soal klik nomornya Tombol SELESAI di klik jika semua soal sudah dijawab  amp  nilai    RT  UB IT  Tes kompetensi TI selama    menit    soal     Excel    P Point    Word   Soal tiap orang berbeda krn bank soal lebih dari          RT  UnileverIDN  Prosesi penutupan Bulan Kesehatan Gigi Nasional      di FKG Univ Brawijaya  BKGN  Pepsodent  UB Official  TanyaPepsodent      Selamat siang  Untuk jadwal penerimaan mahasiswa S  bisa dilihat di  atau di     RT  kempanrb  bersama Korpri meneguhkan netralitas dan meningkatkan profesionalisme Aparatur Sipil Negara  Selamat HUT KORPRI ke       RT  UB IO  Sosialisasi Studi S  dan Beasiswa dari Swedia  hari ini              di Lt   Rektorat UB  Free entry  kuota terbatas     kursi     RT  UB IO  Kesempatan terbaru untuk studi S  dan S  di luar negeri dengan beasiswa  Informasi lebih lengkap   UB Off    RT  UB IO  Don t forget  British Winter Education Fair  Today       at Gedung Kebudayaan Mahasiswa UB   UB Official RT  UB IO  Program Pertukaran Pelajar dari AMINEF untuk D   D  dan S    UB Official RT  UB IO  Fullbright Scholarship untuk S  dan S  telah dibuka  silahkan mengunjungi   UB Official RT  UB IO  British Winter Education Fair  Don t miss it  Scholarships info and many more  UB Official  UBTV Brawijaya  RT  UB IO  International Student Summit adalah agenda tahunan DIKTI untuk kompetisi mahasiswa asing dan lokal se Indonesia  UB Official RT  UB IO  Sosialisasi International Student Summit and Competition by UNAIR  Hari ini Kamis          pukul        di Lt  Rektorat  Free       RT  UB IT  Pengumuman Jadwal Test Sertifikasi Kompetensi TI Gelombang     RT  UB IO  Nuffic Neso dan DAAD menawarkan beasiswa pendidikan untuk S  hingga S   summer course  dan pelatihan   UB    RT  UB IO  Salah satu partner UB  Ritsumeikan University membuka Short term Exchange Program   UB Official Rektor   selamat dan berbahagialah menjadi bagian dari        mahasiswa baru UB  Selamat belajar   RajaBrawijaya      Pusaka   Pelepasan balon oleh Rektor dan Dirjen dari Kemenristekdikti  Dengan dibunyikannya gong  secara resmi telah dimulainya pelaksanaan PKK Maba       RajaBrawijaya      Pusaka    Rektor Universitas Brawijaya beserta jajaran dan undangan memasuki lapangan upacara  RajaBrawijaya      Pusaka   Ayo Dukung    INFO    Pintu gerbang dibuka pada Selasa     Agustus       pukul       WIB       WIB dan       WIB selesai  RajaBrawijaya      INFO    Pintu Gerbang keluar yang dibuka   Pintu Gerbang Pos Veteran dan Pintu Gerbang Pos BNI     RajaBrawijaya      INFO    Penutupan dilaksanakan pada hari   Selasa     Agustus       pukul             WIB dan             WIB  RajaBrawijaya      INFO    Penutupan jalan masuk pada   Pintu Gerbang Pos Veteran  Pos BNI     Pos Jl  M  Haryono  Makam  dan Pos KPRI  RajaBrawijaya      INFO Sehubungan dengan akan diselenggarakannya PKK Maba  RajaBrawijaya     dengan ini diberitahukan bahwa   \n"
     ]
    }
   ],
   "source": [
    "#remove punctuation and digit from string\n",
    "def removeDigit(str):\n",
    "    new_string =  re.sub(r\"[\\W,0-9,(_),(â)]\", \" \", str)\n",
    "    return new_string\n",
    "\n",
    "rm = removeDigit(text)\n",
    "print(rm)"
   ]
  },
  {
   "cell_type": "code",
   "execution_count": 7,
   "metadata": {},
   "outputs": [
    {
     "name": "stdout",
     "output_type": "stream",
     "text": [
      "Siang bisa langsung ditanyakan ke Kebidanan FK UB Terima kasih Jadwal Kegiatan Dies Natalis ke UB Catat tanggalnya dan semarakkan acaranya Coming soon Rangkaian Acara Dies Natalis ke Universitas Brawijaya RT UB IO Beasiswa AMINEF Untuk Pengajar Bahasa Inggris di UB Deadline aplikasi tanggal April UB Official RT UB IO Beasiswa untuk Training dan Studi Lanjut ke Belgia UB Official UBTV Brawijaya RT UB IT Periksa Soal cek jawaban kamu Untuk kembali ke soal klik nomornya Tombol SELESAI di klik jika semua soal sudah dijawab amp nilai RT UB IT Tes kompetensi TI selama menit soal Excel P Point Word Soal tiap orang berbeda krn bank soal lebih dari RT UnileverIDN Prosesi penutupan Bulan Kesehatan Gigi Nasional di FKG Univ Brawijaya BKGN Pepsodent UB Official TanyaPepsodent Selamat siang Untuk jadwal penerimaan mahasiswa S bisa dilihat di atau di RT kempanrb bersama Korpri meneguhkan netralitas dan meningkatkan profesionalisme Aparatur Sipil Negara Selamat HUT KORPRI ke RT UB IO Sosialisasi Studi S dan Beasiswa dari Swedia hari ini di Lt Rektorat UB Free entry kuota terbatas kursi RT UB IO Kesempatan terbaru untuk studi S dan S di luar negeri dengan beasiswa Informasi lebih lengkap UB Off RT UB IO Don t forget British Winter Education Fair Today at Gedung Kebudayaan Mahasiswa UB UB Official RT UB IO Program Pertukaran Pelajar dari AMINEF untuk D D dan S UB Official RT UB IO Fullbright Scholarship untuk S dan S telah dibuka silahkan mengunjungi UB Official RT UB IO British Winter Education Fair Don t miss it Scholarships info and many more UB Official UBTV Brawijaya RT UB IO International Student Summit adalah agenda tahunan DIKTI untuk kompetisi mahasiswa asing dan lokal se Indonesia UB Official RT UB IO Sosialisasi International Student Summit and Competition by UNAIR Hari ini Kamis pukul di Lt Rektorat Free RT UB IT Pengumuman Jadwal Test Sertifikasi Kompetensi TI Gelombang RT UB IO Nuffic Neso dan DAAD menawarkan beasiswa pendidikan untuk S hingga S summer course dan pelatihan UB RT UB IO Salah satu partner UB Ritsumeikan University membuka Short term Exchange Program UB Official Rektor selamat dan berbahagialah menjadi bagian dari mahasiswa baru UB Selamat belajar RajaBrawijaya Pusaka Pelepasan balon oleh Rektor dan Dirjen dari Kemenristekdikti Dengan dibunyikannya gong secara resmi telah dimulainya pelaksanaan PKK Maba RajaBrawijaya Pusaka Rektor Universitas Brawijaya beserta jajaran dan undangan memasuki lapangan upacara RajaBrawijaya Pusaka Ayo Dukung INFO Pintu gerbang dibuka pada Selasa Agustus pukul WIB WIB dan WIB selesai RajaBrawijaya INFO Pintu Gerbang keluar yang dibuka Pintu Gerbang Pos Veteran dan Pintu Gerbang Pos BNI RajaBrawijaya INFO Penutupan dilaksanakan pada hari Selasa Agustus pukul WIB dan WIB RajaBrawijaya INFO Penutupan jalan masuk pada Pintu Gerbang Pos Veteran Pos BNI Pos Jl M Haryono Makam dan Pos KPRI RajaBrawijaya INFO Sehubungan dengan akan diselenggarakannya PKK Maba RajaBrawijaya dengan ini diberitahukan bahwa \n"
     ]
    }
   ],
   "source": [
    "#remove multiple spaces\n",
    "import re\n",
    "text1 = re.sub(' +',' ',rm)\n",
    "print(text1)"
   ]
  },
  {
   "cell_type": "code",
   "execution_count": 8,
   "metadata": {},
   "outputs": [],
   "source": [
    "stop = re.compile(r'\\W*\\b\\w{1}\\b')\n",
    "text2 = stop.sub('',text1)"
   ]
  },
  {
   "cell_type": "code",
   "execution_count": 12,
   "metadata": {},
   "outputs": [
    {
     "name": "stdout",
     "output_type": "stream",
     "text": [
      "siang bisa langsung ditanyakan ke kebidanan fk ub terima kasih jadwal kegiatan dies natalis ke ub catat tanggalnya dan semarakkan acaranya coming soon rangkaian acara dies natalis ke universitas brawijaya rt ub io beasiswa aminef untuk pengajar bahasa inggris di ub deadline aplikasi tanggal april ub official rt ub io beasiswa untuk training dan studi lanjut ke belgia ub official ubtv brawijaya rt ub it periksa soal cek jawaban kamu untuk kembali ke soal klik nomornya tombol selesai di klik jika semua soal sudah dijawab amp nilai rt ub it tes kompetensi ti selama menit soal excel point word soal tiap orang berbeda krn bank soal lebih dari rt unileveridn prosesi penutupan bulan kesehatan gigi nasional di fkg univ brawijaya bkgn pepsodent ub official tanyapepsodent selamat siang untuk jadwal penerimaan mahasiswa bisa dilihat di atau di rt kempanrb bersama korpri meneguhkan netralitas dan meningkatkan profesionalisme aparatur sipil negara selamat hut korpri ke rt ub io sosialisasi studi dan beasiswa dari swedia hari ini di lt rektorat ub free entry kuota terbatas kursi rt ub io kesempatan terbaru untuk studi dan di luar negeri dengan beasiswa informasi lebih lengkap ub off rt ub io don forget british winter education fair today at gedung kebudayaan mahasiswa ub ub official rt ub io program pertukaran pelajar dari aminef untuk dan ub official rt ub io fullbright scholarship untuk dan telah dibuka silahkan mengunjungi ub official rt ub io british winter education fair don miss it scholarships info and many more ub official ubtv brawijaya rt ub io international student summit adalah agenda tahunan dikti untuk kompetisi mahasiswa asing dan lokal se indonesia ub official rt ub io sosialisasi international student summit and competition by unair hari ini kamis pukul di lt rektorat free rt ub it pengumuman jadwal test sertifikasi kompetensi ti gelombang rt ub io nuffic neso dan daad menawarkan beasiswa pendidikan untuk hingga summer course dan pelatihan ub rt ub io salah satu partner ub ritsumeikan university membuka short term exchange program ub official rektor selamat dan berbahagialah menjadi bagian dari mahasiswa baru ub selamat belajar rajabrawijaya pusaka pelepasan balon oleh rektor dan dirjen dari kemenristekdikti dengan dibunyikannya gong secara resmi telah dimulainya pelaksanaan pkk maba rajabrawijaya pusaka rektor universitas brawijaya beserta jajaran dan undangan memasuki lapangan upacara rajabrawijaya pusaka ayo dukung info pintu gerbang dibuka pada selasa agustus pukul wib wib dan wib selesai rajabrawijaya info pintu gerbang keluar yang dibuka pintu gerbang pos veteran dan pintu gerbang pos bni rajabrawijaya info penutupan dilaksanakan pada hari selasa agustus pukul wib dan wib rajabrawijaya info penutupan jalan masuk pada pintu gerbang pos veteran pos bni pos jl haryono makam dan pos kpri rajabrawijaya info sehubungan dengan akan diselenggarakannya pkk maba rajabrawijaya dengan ini diberitahukan bahwa \n"
     ]
    }
   ],
   "source": [
    "def casefolding(s):\n",
    "    new_str = s.lower()\n",
    "    \n",
    "    return new_str\n",
    "case = casefolding(text2)\n",
    "print(case)"
   ]
  },
  {
   "cell_type": "code",
   "execution_count": 13,
   "metadata": {},
   "outputs": [
    {
     "name": "stdout",
     "output_type": "stream",
     "text": [
      "['siang', 'langsung', 'kebidanan', 'fk', 'ub', 'terima', 'kasih', 'jadwal', 'kegiatan', 'dies', 'natalis', 'ub', 'catat', 'tanggalnya', 'semarakkan', 'acaranya', 'coming', 'soon', 'rangkaian', 'acara', 'dies', 'natalis', 'universitas', 'brawijaya', 'rt', 'ub', 'io', 'beasiswa', 'aminef', 'pengajar', 'bahasa', 'inggris', 'ub', 'deadline', 'aplikasi', 'tanggal', 'april', 'ub', 'official', 'rt', 'ub', 'io', 'beasiswa', 'training', 'studi', 'belgia', 'ub', 'official', 'ubtv', 'brawijaya', 'rt', 'ub', 'periksa', 'cek', 'klik', 'nomornya', 'tombol', 'selesai', 'klik', 'amp', 'nilai', 'rt', 'ub', 'tes', 'kompetensi', 'ti', 'menit', 'excel', 'point', 'word', 'orang', 'berbeda', 'krn', 'bank', 'rt', 'unileveridn', 'prosesi', 'penutupan', 'kesehatan', 'gigi', 'nasional', 'fkg', 'univ', 'brawijaya', 'bkgn', 'pepsodent', 'ub', 'official', 'tanyapepsodent', 'selamat', 'siang', 'jadwal', 'penerimaan', 'mahasiswa', 'rt', 'kempanrb', 'korpri', 'meneguhkan', 'netralitas', 'meningkatkan', 'profesionalisme', 'aparatur', 'sipil', 'negara', 'selamat', 'hut', 'korpri', 'rt', 'ub', 'io', 'sosialisasi', 'studi', 'beasiswa', 'swedia', 'lt', 'rektorat', 'ub', 'free', 'entry', 'kuota', 'terbatas', 'kursi', 'rt', 'ub', 'io', 'kesempatan', 'terbaru', 'studi', 'negeri', 'beasiswa', 'informasi', 'lengkap', 'ub', 'rt', 'ub', 'io', 'forget', 'british', 'winter', 'education', 'fair', 'today', 'gedung', 'kebudayaan', 'mahasiswa', 'ub', 'ub', 'official', 'rt', 'ub', 'io', 'program', 'pertukaran', 'pelajar', 'aminef', 'ub', 'official', 'rt', 'ub', 'io', 'fullbright', 'scholarship', 'dibuka', 'silahkan', 'mengunjungi', 'ub', 'official', 'rt', 'ub', 'io', 'british', 'winter', 'education', 'fair', 'miss', 'scholarships', 'info', 'many', 'ub', 'official', 'ubtv', 'brawijaya', 'rt', 'ub', 'io', 'international', 'student', 'summit', 'agenda', 'tahunan', 'dikti', 'kompetisi', 'mahasiswa', 'asing', 'lokal', 'indonesia', 'ub', 'official', 'rt', 'ub', 'io', 'sosialisasi', 'international', 'student', 'summit', 'competition', 'unair', 'kamis', 'lt', 'rektorat', 'free', 'rt', 'ub', 'pengumuman', 'jadwal', 'test', 'sertifikasi', 'kompetensi', 'ti', 'gelombang', 'rt', 'ub', 'io', 'nuffic', 'neso', 'daad', 'menawarkan', 'beasiswa', 'pendidikan', 'summer', 'course', 'pelatihan', 'ub', 'rt', 'ub', 'io', 'salah', 'partner', 'ub', 'ritsumeikan', 'university', 'membuka', 'short', 'term', 'exchange', 'program', 'ub', 'official', 'rektor', 'selamat', 'berbahagialah', 'mahasiswa', 'ub', 'selamat', 'belajar', 'rajabrawijaya', 'pusaka', 'pelepasan', 'balon', 'rektor', 'dirjen', 'kemenristekdikti', 'dibunyikannya', 'gong', 'resmi', 'pelaksanaan', 'pkk', 'maba', 'rajabrawijaya', 'pusaka', 'rektor', 'universitas', 'brawijaya', 'beserta', 'jajaran', 'undangan', 'memasuki', 'lapangan', 'upacara', 'rajabrawijaya', 'pusaka', 'ayo', 'dukung', 'info', 'pintu', 'gerbang', 'dibuka', 'selasa', 'agustus', 'wib', 'wib', 'wib', 'selesai', 'rajabrawijaya', 'info', 'pintu', 'gerbang', 'dibuka', 'pintu', 'gerbang', 'pos', 'veteran', 'pintu', 'gerbang', 'pos', 'bni', 'rajabrawijaya', 'info', 'penutupan', 'dilaksanakan', 'selasa', 'agustus', 'wib', 'wib', 'rajabrawijaya', 'info', 'penutupan', 'jalan', 'masuk', 'pintu', 'gerbang', 'pos', 'veteran', 'pos', 'bni', 'pos', 'jl', 'haryono', 'makam', 'pos', 'kpri', 'rajabrawijaya', 'info', 'sehubungan', 'diselenggarakannya', 'pkk', 'maba', 'rajabrawijaya', 'diberitahukan']\n"
     ]
    }
   ],
   "source": [
    "#stopwords\n",
    "stop_words = set(stopwords.words('indonesian'))\n",
    "stop_words1 = set(stopwords.words('english'))\n",
    "\n",
    "word_tokens = word_tokenize(case) \n",
    "\n",
    "filtered_sentence = [w for w in word_tokens if not w in stop_words]\n",
    "filtered_sentence = [w for w in word_tokens if not w in stop_words1]\n",
    "filtered_sentence = [] \n",
    "\n",
    "for w in word_tokens: \n",
    "    if w not in stop_words: \n",
    "        if w not in stop_words1:\n",
    "            filtered_sentence.append(w) \n",
    "\n",
    "print(filtered_sentence)"
   ]
  },
  {
   "cell_type": "code",
   "execution_count": 14,
   "metadata": {},
   "outputs": [
    {
     "name": "stdout",
     "output_type": "stream",
     "text": [
      "siang langsung kebidanan fk ub terima kasih jadwal kegiatan dies natalis ub catat tanggalnya semarakkan acaranya coming soon rangkaian acara dies natalis universitas brawijaya rt ub io beasiswa aminef pengajar bahasa inggris ub deadline aplikasi tanggal april ub official rt ub io beasiswa training studi belgia ub official ubtv brawijaya rt ub periksa cek klik nomornya tombol selesai klik amp nilai rt ub tes kompetensi ti menit excel point word orang berbeda krn bank rt unileveridn prosesi penutupan kesehatan gigi nasional fkg univ brawijaya bkgn pepsodent ub official tanyapepsodent selamat siang jadwal penerimaan mahasiswa rt kempanrb korpri meneguhkan netralitas meningkatkan profesionalisme aparatur sipil negara selamat hut korpri rt ub io sosialisasi studi beasiswa swedia lt rektorat ub free entry kuota terbatas kursi rt ub io kesempatan terbaru studi negeri beasiswa informasi lengkap ub rt ub io forget british winter education fair today gedung kebudayaan mahasiswa ub ub official rt ub io program pertukaran pelajar aminef ub official rt ub io fullbright scholarship dibuka silahkan mengunjungi ub official rt ub io british winter education fair miss scholarships info many ub official ubtv brawijaya rt ub io international student summit agenda tahunan dikti kompetisi mahasiswa asing lokal indonesia ub official rt ub io sosialisasi international student summit competition unair kamis lt rektorat free rt ub pengumuman jadwal test sertifikasi kompetensi ti gelombang rt ub io nuffic neso daad menawarkan beasiswa pendidikan summer course pelatihan ub rt ub io salah partner ub ritsumeikan university membuka short term exchange program ub official rektor selamat berbahagialah mahasiswa ub selamat belajar rajabrawijaya pusaka pelepasan balon rektor dirjen kemenristekdikti dibunyikannya gong resmi pelaksanaan pkk maba rajabrawijaya pusaka rektor universitas brawijaya beserta jajaran undangan memasuki lapangan upacara rajabrawijaya pusaka ayo dukung info pintu gerbang dibuka selasa agustus wib wib wib selesai rajabrawijaya info pintu gerbang dibuka pintu gerbang pos veteran pintu gerbang pos bni rajabrawijaya info penutupan dilaksanakan selasa agustus wib wib rajabrawijaya info penutupan jalan masuk pintu gerbang pos veteran pos bni pos jl haryono makam pos kpri rajabrawijaya info sehubungan diselenggarakannya pkk maba rajabrawijaya diberitahukan\n"
     ]
    }
   ],
   "source": [
    "str1 = ' '.join(filtered_sentence)\n",
    "print(str1)"
   ]
  },
  {
   "cell_type": "code",
   "execution_count": null,
   "metadata": {},
   "outputs": [],
   "source": []
  },
  {
   "cell_type": "code",
   "execution_count": null,
   "metadata": {},
   "outputs": [],
   "source": []
  }
 ],
 "metadata": {
  "kernelspec": {
   "display_name": "Python 3",
   "language": "python",
   "name": "python3"
  },
  "language_info": {
   "codemirror_mode": {
    "name": "ipython",
    "version": 3
   },
   "file_extension": ".py",
   "mimetype": "text/x-python",
   "name": "python",
   "nbconvert_exporter": "python",
   "pygments_lexer": "ipython3",
   "version": "3.6.5"
  }
 },
 "nbformat": 4,
 "nbformat_minor": 2
}
